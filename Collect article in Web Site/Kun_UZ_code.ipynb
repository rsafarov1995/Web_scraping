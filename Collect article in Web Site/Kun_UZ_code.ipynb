{
 "cells": [
  {
   "cell_type": "code",
   "execution_count": 1,
   "id": "6f094fbe-3d77-4e0b-a68f-c53af50afe69",
   "metadata": {},
   "outputs": [],
   "source": [
    "import pandas as pd\n",
    "import requests\n",
    "from bs4 import BeautifulSoup\n",
    "import os\n",
    "import requests\n",
    "import time"
   ]
  },
  {
   "cell_type": "code",
   "execution_count": 2,
   "id": "a5b80688-ed3a-463e-95f2-0ba1848d3406",
   "metadata": {},
   "outputs": [
    {
     "data": {
      "text/plain": [
       "(602, 1)"
      ]
     },
     "execution_count": 2,
     "metadata": {},
     "output_type": "execute_result"
    }
   ],
   "source": [
    "#tartiblanmagan liknlarni olish va takrorlanganlarini olib tashlash.\n",
    "# Read in data into a dataframe \n",
    "data = pd.read_csv('all_kun.csv')\n",
    "# Display top of dataframe\n",
    "data.head()\n",
    "#takrorlangan blok linklarni olib tashladik\n",
    "data1=data.drop_duplicates(['0'],keep= 'last')\n",
    "data1.shape"
   ]
  },
  {
   "cell_type": "code",
   "execution_count": 3,
   "id": "514aa814-b966-44af-9bce-c0f8c6e1ae74",
   "metadata": {},
   "outputs": [
    {
     "data": {
      "text/plain": [
       "(1200, 1)"
      ]
     },
     "execution_count": 3,
     "metadata": {},
     "output_type": "execute_result"
    }
   ],
   "source": [
    "data.shape"
   ]
  },
  {
   "cell_type": "code",
   "execution_count": 16,
   "id": "8c6f70ac-79d4-4733-8c92-681828e2ade0",
   "metadata": {},
   "outputs": [
    {
     "name": "stdout",
     "output_type": "stream",
     "text": [
      "16254\n"
     ]
    }
   ],
   "source": [
    "#har bir blok likni ichida o'rtacha 27 ta yangilik likni bor va o'sha liknlarni hammasini ajratib olmiz\n",
    "\n",
    "all_kun_links=[]\n",
    "for i in data1['0']:\n",
    "    url = str(i)\n",
    "    response = requests.get(url)\n",
    "    soup = BeautifulSoup(response.text, 'lxml')\n",
    "    quotes = soup.find('div', class_=\"daily-news max-w\").find_all(href=True)\n",
    "    for quote in quotes:\n",
    "        link = \"https://kun.uz/uz\"+quote['href']\n",
    "        all_kun_links.append(link)\n",
    "    \n",
    "print(len(all_kun_links))"
   ]
  },
  {
   "cell_type": "code",
   "execution_count": 17,
   "id": "6f3d13c5-d2db-49c7-9663-85de7537f113",
   "metadata": {},
   "outputs": [
    {
     "name": "stdout",
     "output_type": "stream",
     "text": [
      "                                                    link\n",
      "0      https://kun.uz/uz/news/2022/06/24/pedagogik-ta...\n",
      "1      https://kun.uz/uz/news/2022/06/24/ota-onam-oqi...\n",
      "2      https://kun.uz/uz/news/2022/06/24/ozbekiston-a...\n",
      "3      https://kun.uz/uz/news/2022/06/24/sogdiyona-qi...\n",
      "4      https://kun.uz/uz/news/2022/06/24/toshkentda-k...\n",
      "...                                                  ...\n",
      "16249  https://kun.uz/uz/news/2021/08/21/iyul-oyida-e...\n",
      "16250  https://kun.uz/uz/news/2021/08/21/ozbekistonda...\n",
      "16251  https://kun.uz/uz/news/2021/08/21/bugun-ozbeki...\n",
      "16252  https://kun.uz/uz/news/2021/08/21/toshkent-vil...\n",
      "16253  https://kun.uz/uz/news/2021/08/21/tana-harorat...\n",
      "\n",
      "[16254 rows x 1 columns]\n"
     ]
    }
   ],
   "source": [
    "#listni dataframega aylanitib oldik\n",
    "df = pd.DataFrame(all_kun_links,columns=['link'])\n",
    "print (df)"
   ]
  },
  {
   "cell_type": "code",
   "execution_count": 18,
   "id": "419f5c8e-60a7-456f-812d-d10e2b928b68",
   "metadata": {},
   "outputs": [
    {
     "data": {
      "text/plain": [
       "(16253, 1)"
      ]
     },
     "execution_count": 18,
     "metadata": {},
     "output_type": "execute_result"
    }
   ],
   "source": [
    "# va bunda ham takrorlangan liknlarni olib tahsladik\n",
    "df1=df.drop_duplicates(['link'],keep= 'last')\n",
    "df1.shape"
   ]
  },
  {
   "cell_type": "code",
   "execution_count": 19,
   "id": "aad36b02-f828-45be-9d1a-efc8c3296897",
   "metadata": {},
   "outputs": [],
   "source": [
    "#unikalniy 16253 ta liknki saqlab oldik\n",
    "df1.to_csv(\"all_uz_kun.csv\", index = False)"
   ]
  },
  {
   "cell_type": "code",
   "execution_count": 28,
   "id": "eb56a54d-d85c-4a92-a7c8-4ddfa7b587fc",
   "metadata": {},
   "outputs": [
    {
     "data": {
      "text/plain": [
       "16253"
      ]
     },
     "execution_count": 28,
     "metadata": {},
     "output_type": "execute_result"
    }
   ],
   "source": [
    "df1.shape[0]"
   ]
  },
  {
   "cell_type": "code",
   "execution_count": 39,
   "id": "b98c69f0-a636-4027-b23b-63784726ebc5",
   "metadata": {},
   "outputs": [
    {
     "name": "stdout",
     "output_type": "stream",
     "text": [
      "ex  80 80\n",
      "4882.983828306198\n"
     ]
    }
   ],
   "source": [
    "start = time.time()\n",
    "data=[]\n",
    "for i in range(0,df1.shape[0]):\n",
    "    try:\n",
    "        sub_data=[]\n",
    "        response_link = requests.get(df1['link'][i])\n",
    "        if(response_link.status_code == 200):\n",
    "            #get all data form page\n",
    "            soup_link = BeautifulSoup(response_link.text, 'lxml')\n",
    "            my_txt=''\n",
    "            try:\n",
    "                # get question title\n",
    "                title = soup_link.select_one('div[class*=\"single-header__title\"]').get_text().replace('\\n','').replace('\\r','').replace('\\t','')\n",
    "                #print(\"title: \",title)\n",
    "                my_txt = my_txt+ title\n",
    "            except Exception as ex:\n",
    "                pass\n",
    "            \n",
    "            try:\n",
    "                title2 = soup_link.find('h4').text.replace('\\n','').replace('\\r','').replace('\\t','')\n",
    "                #print(\"title2: \",title2)\n",
    "                my_txt = my_txt+ title2\n",
    "            except Exception as ex:\n",
    "                pass\n",
    "            \n",
    "            \n",
    "            quotes_text = soup_link.find_all('p')\n",
    "            for j in range(0,len(quotes_text)):\n",
    "                line=quotes_text[j].text.replace('\\n','').replace('\\r','').replace('\\t','')\n",
    "                # print(line,'--end')\n",
    "                my_txt = my_txt+ ' '+line\n",
    "                \n",
    "            sub_data.append(df1['link'][i])\n",
    "            sub_data.append(my_txt)\n",
    "            \n",
    "                \n",
    "            data.append(sub_data)\n",
    "                   \n",
    "        else:\n",
    "            print(i, \"boyicha link topilmadi\")\n",
    "        \n",
    "    except Exception as ex:\n",
    "        print(\"ex \",i,ex)\n",
    "    \n",
    "        \n",
    "end = time.time()\n",
    "print(end - start)\n"
   ]
  },
  {
   "cell_type": "code",
   "execution_count": 40,
   "id": "1e0c6f61-100e-4a71-aca8-bfa7dc1bcc10",
   "metadata": {},
   "outputs": [
    {
     "data": {
      "text/plain": [
       "16252"
      ]
     },
     "execution_count": 40,
     "metadata": {},
     "output_type": "execute_result"
    }
   ],
   "source": [
    "len(data)"
   ]
  },
  {
   "cell_type": "code",
   "execution_count": 41,
   "id": "c28fef68-a689-4db6-833d-2bc6115ac874",
   "metadata": {},
   "outputs": [
    {
     "data": {
      "text/html": [
       "<div>\n",
       "<style scoped>\n",
       "    .dataframe tbody tr th:only-of-type {\n",
       "        vertical-align: middle;\n",
       "    }\n",
       "\n",
       "    .dataframe tbody tr th {\n",
       "        vertical-align: top;\n",
       "    }\n",
       "\n",
       "    .dataframe thead th {\n",
       "        text-align: right;\n",
       "    }\n",
       "</style>\n",
       "<table border=\"1\" class=\"dataframe\">\n",
       "  <thead>\n",
       "    <tr style=\"text-align: right;\">\n",
       "      <th></th>\n",
       "      <th>link</th>\n",
       "      <th>text</th>\n",
       "    </tr>\n",
       "  </thead>\n",
       "  <tbody>\n",
       "    <tr>\n",
       "      <th>0</th>\n",
       "      <td>https://kun.uz/uz/news/2022/06/24/pedagogik-ta...</td>\n",
       "      <td>Pedagogik ta’lim bo‘yicha qarorlar: nimalar o‘...</td>\n",
       "    </tr>\n",
       "    <tr>\n",
       "      <th>1</th>\n",
       "      <td>https://kun.uz/uz/news/2022/06/24/ota-onam-oqi...</td>\n",
       "      <td>“Ota-onam o‘qishga rag‘batni doim birinchi o‘r...</td>\n",
       "    </tr>\n",
       "    <tr>\n",
       "      <th>2</th>\n",
       "      <td>https://kun.uz/uz/news/2022/06/24/ozbekiston-a...</td>\n",
       "      <td>O‘zbekiston-AQSh: Hamkorlik va sherikchilik al...</td>\n",
       "    </tr>\n",
       "    <tr>\n",
       "      <th>3</th>\n",
       "      <td>https://kun.uz/uz/news/2022/06/24/sogdiyona-qi...</td>\n",
       "      <td>«So‘g‘diyona» Qirg‘iziston klubidan ustun keli...</td>\n",
       "    </tr>\n",
       "    <tr>\n",
       "      <th>4</th>\n",
       "      <td>https://kun.uz/uz/news/2022/06/24/toshkentda-k...</td>\n",
       "      <td>Toshkentda kovid-markazlar qayta ochilmoqda Sh...</td>\n",
       "    </tr>\n",
       "    <tr>\n",
       "      <th>...</th>\n",
       "      <td>...</td>\n",
       "      <td>...</td>\n",
       "    </tr>\n",
       "    <tr>\n",
       "      <th>16247</th>\n",
       "      <td>https://kun.uz/uz/news/2021/08/21/dxsh-loyihal...</td>\n",
       "      <td>DXSh loyihalarini moliyalashtirish tartibi bel...</td>\n",
       "    </tr>\n",
       "    <tr>\n",
       "      <th>16248</th>\n",
       "      <td>https://kun.uz/uz/news/2021/08/21/iyul-oyida-e...</td>\n",
       "      <td>Iyul oyida eng ko‘p «Damas» avtomobili ishlab ...</td>\n",
       "    </tr>\n",
       "    <tr>\n",
       "      <th>16249</th>\n",
       "      <td>https://kun.uz/uz/news/2021/08/21/ozbekistonda...</td>\n",
       "      <td>O‘zbekistonda 1 kvadrat kilometr yer maydoniga...</td>\n",
       "    </tr>\n",
       "    <tr>\n",
       "      <th>16250</th>\n",
       "      <td>https://kun.uz/uz/news/2021/08/21/bugun-ozbeki...</td>\n",
       "      <td>Bugun O‘zbekiston bo‘yicha kam bulutli ob-havo...</td>\n",
       "    </tr>\n",
       "    <tr>\n",
       "      <th>16251</th>\n",
       "      <td>https://kun.uz/uz/news/2021/08/21/toshkent-vil...</td>\n",
       "      <td>Toshkent viloyati go‘sht yetishtirish bo‘yicha...</td>\n",
       "    </tr>\n",
       "  </tbody>\n",
       "</table>\n",
       "<p>16252 rows × 2 columns</p>\n",
       "</div>"
      ],
      "text/plain": [
       "                                                    link  \\\n",
       "0      https://kun.uz/uz/news/2022/06/24/pedagogik-ta...   \n",
       "1      https://kun.uz/uz/news/2022/06/24/ota-onam-oqi...   \n",
       "2      https://kun.uz/uz/news/2022/06/24/ozbekiston-a...   \n",
       "3      https://kun.uz/uz/news/2022/06/24/sogdiyona-qi...   \n",
       "4      https://kun.uz/uz/news/2022/06/24/toshkentda-k...   \n",
       "...                                                  ...   \n",
       "16247  https://kun.uz/uz/news/2021/08/21/dxsh-loyihal...   \n",
       "16248  https://kun.uz/uz/news/2021/08/21/iyul-oyida-e...   \n",
       "16249  https://kun.uz/uz/news/2021/08/21/ozbekistonda...   \n",
       "16250  https://kun.uz/uz/news/2021/08/21/bugun-ozbeki...   \n",
       "16251  https://kun.uz/uz/news/2021/08/21/toshkent-vil...   \n",
       "\n",
       "                                                    text  \n",
       "0      Pedagogik ta’lim bo‘yicha qarorlar: nimalar o‘...  \n",
       "1      “Ota-onam o‘qishga rag‘batni doim birinchi o‘r...  \n",
       "2      O‘zbekiston-AQSh: Hamkorlik va sherikchilik al...  \n",
       "3      «So‘g‘diyona» Qirg‘iziston klubidan ustun keli...  \n",
       "4      Toshkentda kovid-markazlar qayta ochilmoqda Sh...  \n",
       "...                                                  ...  \n",
       "16247  DXSh loyihalarini moliyalashtirish tartibi bel...  \n",
       "16248  Iyul oyida eng ko‘p «Damas» avtomobili ishlab ...  \n",
       "16249  O‘zbekistonda 1 kvadrat kilometr yer maydoniga...  \n",
       "16250  Bugun O‘zbekiston bo‘yicha kam bulutli ob-havo...  \n",
       "16251  Toshkent viloyati go‘sht yetishtirish bo‘yicha...  \n",
       "\n",
       "[16252 rows x 2 columns]"
      ]
     },
     "execution_count": 41,
     "metadata": {},
     "output_type": "execute_result"
    }
   ],
   "source": [
    "df2 = pd.DataFrame(data,columns=['link','text'])\n",
    "df2"
   ]
  },
  {
   "cell_type": "code",
   "execution_count": 42,
   "id": "bacb6e86-ebe8-4ac8-926a-e17c8191176b",
   "metadata": {},
   "outputs": [],
   "source": [
    "#unikalniy 16253 ta liknki saqlab oldik\n",
    "df2.to_csv(\"all_uz_kun_data.csv\", index = False)"
   ]
  },
  {
   "cell_type": "code",
   "execution_count": 43,
   "id": "cd6d37be-273f-4a32-b436-7d932e3a0b77",
   "metadata": {},
   "outputs": [
    {
     "name": "stdout",
     "output_type": "stream",
     "text": [
      "1\n"
     ]
    }
   ],
   "source": [
    "print(1)"
   ]
  },
  {
   "cell_type": "code",
   "execution_count": 44,
   "id": "1c7a35fa-d552-4fc1-99b6-b6881225d896",
   "metadata": {},
   "outputs": [
    {
     "data": {
      "text/plain": [
       "'https://kun.uz/uz/news/2021/08/21/toshkent-viloyati-gosht-yetishtirish-boyicha-yetakchi-bolib-turibdi'"
      ]
     },
     "execution_count": 44,
     "metadata": {},
     "output_type": "execute_result"
    }
   ],
   "source": [
    "df2['link'][16251]"
   ]
  },
  {
   "cell_type": "code",
   "execution_count": null,
   "id": "82763bd3-0c21-4ca5-bc6d-f25227cebfbe",
   "metadata": {},
   "outputs": [],
   "source": []
  }
 ],
 "metadata": {
  "kernelspec": {
   "display_name": "Python 3 (ipykernel)",
   "language": "python",
   "name": "python3"
  },
  "language_info": {
   "codemirror_mode": {
    "name": "ipython",
    "version": 3
   },
   "file_extension": ".py",
   "mimetype": "text/x-python",
   "name": "python",
   "nbconvert_exporter": "python",
   "pygments_lexer": "ipython3",
   "version": "3.9.7"
  }
 },
 "nbformat": 4,
 "nbformat_minor": 5
}
