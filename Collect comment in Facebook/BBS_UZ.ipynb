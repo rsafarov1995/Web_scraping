{
 "cells": [
  {
   "cell_type": "code",
   "execution_count": 23,
   "id": "52cd6891-6dcf-4e5b-9334-294c326fb069",
   "metadata": {},
   "outputs": [],
   "source": [
    "from facebook_scraper import get_posts\n",
    "import pandas as pd\n",
    "import re\n",
    "import time\n"
   ]
  },
  {
   "cell_type": "code",
   "execution_count": 22,
   "id": "7f28f209-64df-4495-93ae-923058b930d4",
   "metadata": {},
   "outputs": [
    {
     "name": "stderr",
     "output_type": "stream",
     "text": [
      "/home/jupyter-samariddin/.local/lib/python3.9/site-packages/dateparser/date_parser.py:35: PytzUsageWarning: The localize method is no longer necessary, as this time zone supports the fold attribute (PEP 495). For more details on migrating to a PEP 495-compliant implementation, see https://pytz-deprecation-shim.readthedocs.io/en/latest/migration.html\n",
      "  date_obj = stz.localize(date_obj)\n",
      "/home/jupyter-samariddin/.local/lib/python3.9/site-packages/facebook_scraper/facebook_scraper.py:857: UserWarning: Facebook says 'Unsupported Browser'\n",
      "  warnings.warn(f\"Facebook says 'Unsupported Browser'\")\n"
     ]
    },
    {
     "name": "stdout",
     "output_type": "stream",
     "text": [
      "87145.02842760086\n"
     ]
    }
   ],
   "source": [
    "commenter_id=[]\n",
    "comment_text=[]\n",
    "comment_url=[]\n",
    "data =[]\n",
    "start = time.time()\n",
    "for post in get_posts('bbcnewsuzbek', pages=2500,options={\"comments\": True}, cookies='cookies.txt'):\n",
    "    if len(post['comments_full']):\n",
    "        \n",
    "        for i in range(len(post['comments_full'])):\n",
    "            dummy_data=[]\n",
    "            # print(\"----\",post['comments_full'][i]['comment_text'])\n",
    "            # print(\"----\",post['comments_full'][i]['comment_text'][:post['comments_full'][i]['comment_text'].find(\"НравитсяReplyMore\")])\n",
    "            dummy_data.append(post['comments_full'][i]['commenter_id'])\n",
    "            dummy_data.append(post['comments_full'][i]['comment_text'])\n",
    "            dummy_data.append(post['comments_full'][i]['comment_url'])\n",
    "            data.append(dummy_data)\n",
    "#             print('comments_full=',(post['comments_full'][i]['comment_text']))\n",
    "#             if len(post['comments_full'][i]['comment_text'])>2:\n",
    "                \n",
    "#                 print('comment_text=',(post['comments_full'][i]['comment_text']))\n",
    "#                 print('comment_url=',(post['comments_full'][i]['comment_url']))\n",
    "              \n",
    "end = time.time()\n",
    "print(end - start)"
   ]
  },
  {
   "cell_type": "code",
   "execution_count": 25,
   "id": "5aaf0c08-dfc0-454b-8ae2-621b36ae9a29",
   "metadata": {},
   "outputs": [
    {
     "data": {
      "text/html": [
       "<div>\n",
       "<style scoped>\n",
       "    .dataframe tbody tr th:only-of-type {\n",
       "        vertical-align: middle;\n",
       "    }\n",
       "\n",
       "    .dataframe tbody tr th {\n",
       "        vertical-align: top;\n",
       "    }\n",
       "\n",
       "    .dataframe thead th {\n",
       "        text-align: right;\n",
       "    }\n",
       "</style>\n",
       "<table border=\"1\" class=\"dataframe\">\n",
       "  <thead>\n",
       "    <tr style=\"text-align: right;\">\n",
       "      <th></th>\n",
       "      <th>commenter_id</th>\n",
       "      <th>comment_text</th>\n",
       "      <th>comment_url</th>\n",
       "    </tr>\n",
       "  </thead>\n",
       "  <tbody>\n",
       "    <tr>\n",
       "      <th>0</th>\n",
       "      <td>100024067984148</td>\n",
       "      <td>Сиздан узбекистонлик махбуслар-нима учун тушга...</td>\n",
       "      <td>https://facebook.com/360819559525923</td>\n",
       "    </tr>\n",
       "    <tr>\n",
       "      <th>1</th>\n",
       "      <td>100000050138890</td>\n",
       "      <td>Zör og'o, ajoyib. keyinki seriyalarini kutib q...</td>\n",
       "      <td>https://facebook.com/729637438308939</td>\n",
       "    </tr>\n",
       "    <tr>\n",
       "      <th>2</th>\n",
       "      <td>1115314294</td>\n",
       "      <td>Бруклинда 3 ой яшаб Калифорнияга кучиб кетганм...</td>\n",
       "      <td>https://facebook.com/440944134229140</td>\n",
       "    </tr>\n",
       "    <tr>\n",
       "      <th>3</th>\n",
       "      <td>100021821598837</td>\n",
       "      <td>Zur aka</td>\n",
       "      <td>https://facebook.com/736475277504822</td>\n",
       "    </tr>\n",
       "    <tr>\n",
       "      <th>4</th>\n",
       "      <td>100072860223974</td>\n",
       "      <td>👍👍👍👍</td>\n",
       "      <td>https://facebook.com/3288478388144744</td>\n",
       "    </tr>\n",
       "    <tr>\n",
       "      <th>...</th>\n",
       "      <td>...</td>\n",
       "      <td>...</td>\n",
       "      <td>...</td>\n",
       "    </tr>\n",
       "    <tr>\n",
       "      <th>151823</th>\n",
       "      <td>100007073343682</td>\n",
       "      <td>Lekin hech qaysi davlat yahshimi yomonmi oz ay...</td>\n",
       "      <td>https://facebook.com/1651399584890168</td>\n",
       "    </tr>\n",
       "    <tr>\n",
       "      <th>151824</th>\n",
       "      <td>100077706106189</td>\n",
       "      <td>ПУТИННИНГ ДОКТРИНАСИ ПРАВОСЛАВ ДИНДОРЛИК, РУС ...</td>\n",
       "      <td>https://facebook.com/5665523460144407</td>\n",
       "    </tr>\n",
       "    <tr>\n",
       "      <th>151825</th>\n",
       "      <td>100077706106189</td>\n",
       "      <td>Уйғониш оламга Аллоҳнинг Нурини қайтарилишидир...</td>\n",
       "      <td>https://facebook.com/5665523593477727</td>\n",
       "    </tr>\n",
       "    <tr>\n",
       "      <th>151826</th>\n",
       "      <td>100077706106189</td>\n",
       "      <td>МУСАФФО ОСМОНМАС, ГОЛУБОЙ ОСМОН\\nРоббимиз қону...</td>\n",
       "      <td>https://facebook.com/5665523490144404</td>\n",
       "    </tr>\n",
       "    <tr>\n",
       "      <th>151827</th>\n",
       "      <td>100001958249130</td>\n",
       "      <td>Нима девотганини узи хам билмайди</td>\n",
       "      <td>https://facebook.com/1655350654495061</td>\n",
       "    </tr>\n",
       "  </tbody>\n",
       "</table>\n",
       "<p>151828 rows × 3 columns</p>\n",
       "</div>"
      ],
      "text/plain": [
       "           commenter_id                                       comment_text  \\\n",
       "0       100024067984148  Сиздан узбекистонлик махбуслар-нима учун тушга...   \n",
       "1       100000050138890  Zör og'o, ajoyib. keyinki seriyalarini kutib q...   \n",
       "2            1115314294  Бруклинда 3 ой яшаб Калифорнияга кучиб кетганм...   \n",
       "3       100021821598837                                            Zur aka   \n",
       "4       100072860223974                                               👍👍👍👍   \n",
       "...                 ...                                                ...   \n",
       "151823  100007073343682  Lekin hech qaysi davlat yahshimi yomonmi oz ay...   \n",
       "151824  100077706106189  ПУТИННИНГ ДОКТРИНАСИ ПРАВОСЛАВ ДИНДОРЛИК, РУС ...   \n",
       "151825  100077706106189  Уйғониш оламга Аллоҳнинг Нурини қайтарилишидир...   \n",
       "151826  100077706106189  МУСАФФО ОСМОНМАС, ГОЛУБОЙ ОСМОН\\nРоббимиз қону...   \n",
       "151827  100001958249130                  Нима девотганини узи хам билмайди   \n",
       "\n",
       "                                  comment_url  \n",
       "0        https://facebook.com/360819559525923  \n",
       "1        https://facebook.com/729637438308939  \n",
       "2        https://facebook.com/440944134229140  \n",
       "3        https://facebook.com/736475277504822  \n",
       "4       https://facebook.com/3288478388144744  \n",
       "...                                       ...  \n",
       "151823  https://facebook.com/1651399584890168  \n",
       "151824  https://facebook.com/5665523460144407  \n",
       "151825  https://facebook.com/5665523593477727  \n",
       "151826  https://facebook.com/5665523490144404  \n",
       "151827  https://facebook.com/1655350654495061  \n",
       "\n",
       "[151828 rows x 3 columns]"
      ]
     },
     "execution_count": 25,
     "metadata": {},
     "output_type": "execute_result"
    }
   ],
   "source": [
    "data = pd.DataFrame(data,columns=['commenter_id','comment_text','comment_url'])\n",
    "data"
   ]
  },
  {
   "cell_type": "code",
   "execution_count": 27,
   "id": "edc43f6b-82da-408a-84a0-c46974581720",
   "metadata": {},
   "outputs": [
    {
     "data": {
      "text/plain": [
       "'\"Дурака не валяйте\".'"
      ]
     },
     "execution_count": 27,
     "metadata": {},
     "output_type": "execute_result"
    }
   ],
   "source": [
    "data[\"comment_text\"][49544]"
   ]
  },
  {
   "cell_type": "code",
   "execution_count": 28,
   "id": "6723ed83-90dc-44e1-91f4-4d440d08f067",
   "metadata": {},
   "outputs": [],
   "source": [
    "data.to_csv(\"bbc_yangi.csv\",index=False)"
   ]
  },
  {
   "cell_type": "code",
   "execution_count": 24,
   "id": "97fc6fb2-3091-4e4a-9445-0cd4303f191f",
   "metadata": {},
   "outputs": [
    {
     "data": {
      "text/plain": [
       "151828"
      ]
     },
     "execution_count": 24,
     "metadata": {},
     "output_type": "execute_result"
    }
   ],
   "source": [
    "len(data)"
   ]
  },
  {
   "cell_type": "code",
   "execution_count": null,
   "id": "16f861fa-5ff5-480c-bc24-595f80fa186d",
   "metadata": {},
   "outputs": [],
   "source": []
  }
 ],
 "metadata": {
  "kernelspec": {
   "display_name": "Python 3 (ipykernel)",
   "language": "python",
   "name": "python3"
  },
  "language_info": {
   "codemirror_mode": {
    "name": "ipython",
    "version": 3
   },
   "file_extension": ".py",
   "mimetype": "text/x-python",
   "name": "python",
   "nbconvert_exporter": "python",
   "pygments_lexer": "ipython3",
   "version": "3.9.7"
  }
 },
 "nbformat": 4,
 "nbformat_minor": 5
}
